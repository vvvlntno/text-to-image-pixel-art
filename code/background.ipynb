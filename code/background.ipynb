{
  "cells": [
    {
      "cell_type": "markdown",
      "metadata": {
        "id": "wHHC2k0tADqH"
      },
      "source": [
        "## Install required libraries\n"
      ]
    },
    {
      "cell_type": "code",
      "execution_count": null,
      "metadata": {
        "id": "aIrgth7sqFML"
      },
      "outputs": [],
      "source": [
        "!pip install diffusers==0.26.3\n",
        "!pip install transformers scipy ftfy accelerate"
      ]
    },
    {
      "cell_type": "code",
      "execution_count": null,
      "metadata": {
        "id": "xSKWBKFPArKS"
      },
      "outputs": [],
      "source": [
        "import torch\n",
        "from diffusers import DiffusionPipeline, LCMScheduler\n",
        "from PIL import Image, ImageFilter\n",
        "import numpy as np\n",
        "import random"
      ]
    },
    {
      "cell_type": "markdown",
      "metadata": {
        "id": "AIYohH-cAdU4"
      },
      "source": [
        "## Create diffusion pipeline"
      ]
    },
    {
      "cell_type": "code",
      "execution_count": null,
      "metadata": {
        "id": "0S-uIOp_6gdw"
      },
      "outputs": [],
      "source": [
        "pipe = DiffusionPipeline.from_pretrained(\"stabilityai/stable-diffusion-xl-base-1.0\")"
      ]
    },
    {
      "cell_type": "code",
      "execution_count": null,
      "metadata": {
        "id": "icQ-QSZ0yp-K"
      },
      "outputs": [],
      "source": [
        "pipe.load_lora_weights(\"nerijs/pixel-art-xl\")"
      ]
    },
    {
      "cell_type": "code",
      "execution_count": null,
      "metadata": {
        "id": "-YRcPxJP8QB6"
      },
      "outputs": [],
      "source": [
        "pipe.to(device=\"cuda\", dtype=torch.float16)"
      ]
    },
    {
      "cell_type": "markdown",
      "metadata": {
        "id": "2ESdgUpzApaA"
      },
      "source": [
        "## Create prompts"
      ]
    },
    {
      "cell_type": "code",
      "execution_count": null,
      "metadata": {
        "id": "oMa5tTiYAtSm"
      },
      "outputs": [],
      "source": [
        "prompt = \"cobblestone background, simple, flat colors, pixel art, video game, tile\"\n",
        "negative_prompt = \"blurry, photorealistic, 3d render, realistic, character\""
      ]
    },
    {
      "cell_type": "markdown",
      "metadata": {
        "id": "uuppCuk1TDw9"
      },
      "source": [
        "## Create seed"
      ]
    },
    {
      "cell_type": "code",
      "execution_count": null,
      "metadata": {
        "id": "wl2cIClGSadV"
      },
      "outputs": [],
      "source": [
        "# 4382350725\n",
        "# 4382342934\n",
        "# 4382339547\n",
        "# 4382337597\n",
        "# 438233954\n",
        "# 4382356118\n",
        "\n",
        "base_seed = 4382339547\n",
        "seed_offset = random.randint(0, 20000)\n",
        "\n",
        "seed = base_seed + seed_offset\n",
        "\n",
        "print(f\"seed {seed}\")"
      ]
    },
    {
      "cell_type": "markdown",
      "metadata": {
        "id": "bx-0R4rqA3sZ"
      },
      "source": [
        "## Generate Images"
      ]
    },
    {
      "cell_type": "code",
      "execution_count": null,
      "metadata": {
        "id": "yEErJFjlrSWS"
      },
      "outputs": [],
      "source": [
        "image = pipe(\n",
        "        prompt=prompt,\n",
        "        negative_prompt=negative_prompt,\n",
        "        num_inference_steps=20,\n",
        "        guidance_scale=1.5,\n",
        "        generator=torch.Generator().manual_seed(seed)\n",
        "    ).images[0]\n",
        "\n",
        "image"
      ]
    },
    {
      "cell_type": "code",
      "execution_count": null,
      "metadata": {
        "id": "IFIRrf5hn09S"
      },
      "outputs": [],
      "source": [
        "image.resize((128, 128), Image.NEAREST).filter(ImageFilter.BoxBlur(radius=0))\n",
        "\n",
        "image"
      ]
    },
    {
      "cell_type": "markdown",
      "metadata": {
        "id": "Y5NbSekGBUHP"
      },
      "source": [
        "## Downscale to 32x32"
      ]
    },
    {
      "cell_type": "code",
      "execution_count": null,
      "metadata": {
        "id": "qj8RGg6xBTSu"
      },
      "outputs": [],
      "source": [
        "def resize_to_any(pimage, size=32):\n",
        "  img = pimage.resize((size, size), Image.NEAREST)\n",
        "  img = img.filter(ImageFilter.BoxBlur(radius=0))\n",
        "  return img"
      ]
    },
    {
      "cell_type": "code",
      "execution_count": null,
      "metadata": {
        "id": "arFrqfDv7I4r"
      },
      "outputs": [],
      "source": [
        "# cropped_image for character\n",
        "# image for background\n",
        "resized_image = resize_to_any(image, 32)\n",
        "resized_image"
      ]
    }
  ],
  "metadata": {
    "accelerator": "GPU",
    "colab": {
      "gpuType": "T4",
      "provenance": []
    },
    "kernelspec": {
      "display_name": "Python 3",
      "name": "python3"
    },
    "language_info": {
      "codemirror_mode": {
        "name": "ipython",
        "version": 3
      },
      "file_extension": ".py",
      "mimetype": "text/x-python",
      "name": "python",
      "nbconvert_exporter": "python",
      "pygments_lexer": "ipython3",
      "version": "3.9.12"
    },
    "toc": {
      "base_numbering": 1,
      "nav_menu": {},
      "number_sections": true,
      "sideBar": true,
      "skip_h1_title": false,
      "title_cell": "Table of Contents",
      "title_sidebar": "Contents",
      "toc_cell": false,
      "toc_position": {},
      "toc_section_display": true,
      "toc_window_display": false
    }
  },
  "nbformat": 4,
  "nbformat_minor": 0
}
